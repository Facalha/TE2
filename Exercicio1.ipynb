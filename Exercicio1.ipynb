{
 "cells": [
  {
   "cell_type": "code",
   "execution_count": 1,
   "id": "79657566-94c5-408e-9a41-c42807655cc9",
   "metadata": {},
   "outputs": [],
   "source": [
    "import pandas as pd\n",
    "import numpy as np"
   ]
  },
  {
   "cell_type": "code",
   "execution_count": 2,
   "id": "ec9ffc11-7140-4337-b1cc-ccac2e567419",
   "metadata": {},
   "outputs": [],
   "source": [
    "dict = {'Nome': ['Anderson', 'Beatriz', 'Bruno', 'Cristiano', 'Daniel', 'Douglas', 'Elena', 'Fabricio', 'Gabriel', 'Janaina', 'Luiz', 'Marcos', 'Nadia', 'Oswaldo', 'Patricia' , 'Ricardo'],\n",
    "       'Idade': [24, 36, 45, 56, 29, 20, 38, 47, 23, 56, 32, 22, 36, 68, 22, 38],\n",
    "       'Cidade': ['Santos', 'Atibaia', 'Guarulhos', 'Atibaia', 'Santos', 'Guarulhos', 'Guarulhos', 'Atibaia', 'Guarulhos', 'Guarulhos', 'Atibaia', 'Guarulhos', 'Santos', 'Guarulhos', 'Guarulhos', 'Santos'],\n",
    "       'Registro': [32123, 45828, 34985, 13457, 98439, 99348, 45019, 24894, 32948, 13480, 22884, 56821, 65938, 12956, 75439, 45392],\n",
    "       'Departamento': ['RH', 'PD', 'RH', 'ADM', 'ADM', 'RH', 'ADM', 'PD', 'PD', 'ADM', 'PD', 'ADM', 'PD', 'RH', 'ADM', 'PD'],\n",
    "       'Formação': ['Graduação', 'Mestrado', 'Graduação', 'Técnico', 'Graduação', 'Técnico', 'Graduação', 'Graduação', 'Técnico', 'Graduação', 'Graduação', 'Graduação', 'Graduação', 'Mestrado', 'Graduação', 'Mestrado']}\n"
   ]
  },
  {
   "cell_type": "code",
   "execution_count": 3,
   "id": "7876e83e-0914-4e1d-9d26-5a6199bb153e",
   "metadata": {},
   "outputs": [],
   "source": [
    "dafra = pd.DataFrame(dict)"
   ]
  },
  {
   "cell_type": "code",
   "execution_count": 4,
   "id": "01282bde-4458-4a6c-879f-3f2fee127cd4",
   "metadata": {},
   "outputs": [
    {
     "data": {
      "text/html": [
       "<div>\n",
       "<style scoped>\n",
       "    .dataframe tbody tr th:only-of-type {\n",
       "        vertical-align: middle;\n",
       "    }\n",
       "\n",
       "    .dataframe tbody tr th {\n",
       "        vertical-align: top;\n",
       "    }\n",
       "\n",
       "    .dataframe thead th {\n",
       "        text-align: right;\n",
       "    }\n",
       "</style>\n",
       "<table border=\"1\" class=\"dataframe\">\n",
       "  <thead>\n",
       "    <tr style=\"text-align: right;\">\n",
       "      <th></th>\n",
       "      <th>Nome</th>\n",
       "      <th>Idade</th>\n",
       "      <th>Cidade</th>\n",
       "      <th>Registro</th>\n",
       "      <th>Departamento</th>\n",
       "      <th>Formação</th>\n",
       "    </tr>\n",
       "  </thead>\n",
       "  <tbody>\n",
       "    <tr>\n",
       "      <th>0</th>\n",
       "      <td>Anderson</td>\n",
       "      <td>24</td>\n",
       "      <td>Santos</td>\n",
       "      <td>32123</td>\n",
       "      <td>RH</td>\n",
       "      <td>Graduação</td>\n",
       "    </tr>\n",
       "    <tr>\n",
       "      <th>1</th>\n",
       "      <td>Beatriz</td>\n",
       "      <td>36</td>\n",
       "      <td>Atibaia</td>\n",
       "      <td>45828</td>\n",
       "      <td>PD</td>\n",
       "      <td>Mestrado</td>\n",
       "    </tr>\n",
       "    <tr>\n",
       "      <th>2</th>\n",
       "      <td>Bruno</td>\n",
       "      <td>45</td>\n",
       "      <td>Guarulhos</td>\n",
       "      <td>34985</td>\n",
       "      <td>RH</td>\n",
       "      <td>Graduação</td>\n",
       "    </tr>\n",
       "    <tr>\n",
       "      <th>3</th>\n",
       "      <td>Cristiano</td>\n",
       "      <td>56</td>\n",
       "      <td>Atibaia</td>\n",
       "      <td>13457</td>\n",
       "      <td>ADM</td>\n",
       "      <td>Técnico</td>\n",
       "    </tr>\n",
       "    <tr>\n",
       "      <th>4</th>\n",
       "      <td>Daniel</td>\n",
       "      <td>29</td>\n",
       "      <td>Santos</td>\n",
       "      <td>98439</td>\n",
       "      <td>ADM</td>\n",
       "      <td>Graduação</td>\n",
       "    </tr>\n",
       "    <tr>\n",
       "      <th>5</th>\n",
       "      <td>Douglas</td>\n",
       "      <td>20</td>\n",
       "      <td>Guarulhos</td>\n",
       "      <td>99348</td>\n",
       "      <td>RH</td>\n",
       "      <td>Técnico</td>\n",
       "    </tr>\n",
       "    <tr>\n",
       "      <th>6</th>\n",
       "      <td>Elena</td>\n",
       "      <td>38</td>\n",
       "      <td>Guarulhos</td>\n",
       "      <td>45019</td>\n",
       "      <td>ADM</td>\n",
       "      <td>Graduação</td>\n",
       "    </tr>\n",
       "    <tr>\n",
       "      <th>7</th>\n",
       "      <td>Fabricio</td>\n",
       "      <td>47</td>\n",
       "      <td>Atibaia</td>\n",
       "      <td>24894</td>\n",
       "      <td>PD</td>\n",
       "      <td>Graduação</td>\n",
       "    </tr>\n",
       "    <tr>\n",
       "      <th>8</th>\n",
       "      <td>Gabriel</td>\n",
       "      <td>23</td>\n",
       "      <td>Guarulhos</td>\n",
       "      <td>32948</td>\n",
       "      <td>PD</td>\n",
       "      <td>Técnico</td>\n",
       "    </tr>\n",
       "    <tr>\n",
       "      <th>9</th>\n",
       "      <td>Janaina</td>\n",
       "      <td>56</td>\n",
       "      <td>Guarulhos</td>\n",
       "      <td>13480</td>\n",
       "      <td>ADM</td>\n",
       "      <td>Graduação</td>\n",
       "    </tr>\n",
       "    <tr>\n",
       "      <th>10</th>\n",
       "      <td>Luiz</td>\n",
       "      <td>32</td>\n",
       "      <td>Atibaia</td>\n",
       "      <td>22884</td>\n",
       "      <td>PD</td>\n",
       "      <td>Graduação</td>\n",
       "    </tr>\n",
       "    <tr>\n",
       "      <th>11</th>\n",
       "      <td>Marcos</td>\n",
       "      <td>22</td>\n",
       "      <td>Guarulhos</td>\n",
       "      <td>56821</td>\n",
       "      <td>ADM</td>\n",
       "      <td>Graduação</td>\n",
       "    </tr>\n",
       "    <tr>\n",
       "      <th>12</th>\n",
       "      <td>Nadia</td>\n",
       "      <td>36</td>\n",
       "      <td>Santos</td>\n",
       "      <td>65938</td>\n",
       "      <td>PD</td>\n",
       "      <td>Graduação</td>\n",
       "    </tr>\n",
       "    <tr>\n",
       "      <th>13</th>\n",
       "      <td>Oswaldo</td>\n",
       "      <td>68</td>\n",
       "      <td>Guarulhos</td>\n",
       "      <td>12956</td>\n",
       "      <td>RH</td>\n",
       "      <td>Mestrado</td>\n",
       "    </tr>\n",
       "    <tr>\n",
       "      <th>14</th>\n",
       "      <td>Patricia</td>\n",
       "      <td>22</td>\n",
       "      <td>Guarulhos</td>\n",
       "      <td>75439</td>\n",
       "      <td>ADM</td>\n",
       "      <td>Graduação</td>\n",
       "    </tr>\n",
       "    <tr>\n",
       "      <th>15</th>\n",
       "      <td>Ricardo</td>\n",
       "      <td>38</td>\n",
       "      <td>Santos</td>\n",
       "      <td>45392</td>\n",
       "      <td>PD</td>\n",
       "      <td>Mestrado</td>\n",
       "    </tr>\n",
       "  </tbody>\n",
       "</table>\n",
       "</div>"
      ],
      "text/plain": [
       "         Nome  Idade     Cidade  Registro Departamento   Formação\n",
       "0    Anderson     24     Santos     32123           RH  Graduação\n",
       "1     Beatriz     36    Atibaia     45828           PD   Mestrado\n",
       "2       Bruno     45  Guarulhos     34985           RH  Graduação\n",
       "3   Cristiano     56    Atibaia     13457          ADM    Técnico\n",
       "4      Daniel     29     Santos     98439          ADM  Graduação\n",
       "5     Douglas     20  Guarulhos     99348           RH    Técnico\n",
       "6       Elena     38  Guarulhos     45019          ADM  Graduação\n",
       "7    Fabricio     47    Atibaia     24894           PD  Graduação\n",
       "8     Gabriel     23  Guarulhos     32948           PD    Técnico\n",
       "9     Janaina     56  Guarulhos     13480          ADM  Graduação\n",
       "10       Luiz     32    Atibaia     22884           PD  Graduação\n",
       "11     Marcos     22  Guarulhos     56821          ADM  Graduação\n",
       "12      Nadia     36     Santos     65938           PD  Graduação\n",
       "13    Oswaldo     68  Guarulhos     12956           RH   Mestrado\n",
       "14   Patricia     22  Guarulhos     75439          ADM  Graduação\n",
       "15    Ricardo     38     Santos     45392           PD   Mestrado"
      ]
     },
     "execution_count": 4,
     "metadata": {},
     "output_type": "execute_result"
    }
   ],
   "source": [
    "dafra"
   ]
  },
  {
   "cell_type": "code",
   "execution_count": 5,
   "id": "06b2f938-5cf4-4f15-b1fd-cbe2ce31c500",
   "metadata": {},
   "outputs": [
    {
     "name": "stdout",
     "output_type": "stream",
     "text": [
      "<pandas.core.groupby.generic.DataFrameGroupBy object at 0x74f16b2508b0>\n"
     ]
    }
   ],
   "source": [
    "grupoCidade = dafra.groupby('Cidade')\n",
    "print(grupoCidade)"
   ]
  },
  {
   "cell_type": "code",
   "execution_count": 6,
   "id": "4777935a-8c44-4151-8f39-ea2c94e20da0",
   "metadata": {},
   "outputs": [],
   "source": [
    "grupoFormacao = dafra.groupby('Formação')\n",
    "grupoDepartamento = dafra.groupby('Departamento')\n",
    "grupoCidadeeDepartamento = dafra.groupby(['Cidade', 'Departamento'])\n",
    "grupoDepartamentoeFormacao = dafra.groupby(['Departamento', 'Formação'])\n"
   ]
  },
  {
   "cell_type": "code",
   "execution_count": 7,
   "id": "c737bd25-87d5-40e4-a24d-d733033555a9",
   "metadata": {},
   "outputs": [
    {
     "name": "stdout",
     "output_type": "stream",
     "text": [
      "       Cidade  Idade  difCidade\n",
      "0      Santos     24      -7.75\n",
      "1     Atibaia     36      -6.75\n",
      "2   Guarulhos     45       8.25\n",
      "3     Atibaia     56      13.25\n",
      "4      Santos     29      -2.75\n",
      "5   Guarulhos     20     -16.75\n",
      "6   Guarulhos     38       1.25\n",
      "7     Atibaia     47       4.25\n",
      "8   Guarulhos     23     -13.75\n",
      "9   Guarulhos     56      19.25\n",
      "10    Atibaia     32     -10.75\n",
      "11  Guarulhos     22     -14.75\n",
      "12     Santos     36       4.25\n",
      "13  Guarulhos     68      31.25\n",
      "14  Guarulhos     22     -14.75\n",
      "15     Santos     38       6.25\n"
     ]
    }
   ],
   "source": [
    "grupoCidade = dafra.groupby('Cidade')\n",
    "\n",
    "dafra['difCidade'] = grupoCidade['Idade'].transform(lambda x: x - x.mean())\n",
    "\n",
    "print(dafra[['Cidade', 'Idade', 'difCidade']])\n"
   ]
  },
  {
   "cell_type": "code",
   "execution_count": 10,
   "id": "fe5e150d-d4bd-4ef6-ac0d-0f7993b2022d",
   "metadata": {},
   "outputs": [
    {
     "name": "stdout",
     "output_type": "stream",
     "text": [
      "   Departamento  Idade  difDepartamento\n",
      "0            RH     24       -15.250000\n",
      "1            PD     36         0.666667\n",
      "2            RH     45         5.750000\n",
      "3           ADM     56        18.833333\n",
      "4           ADM     29        -8.166667\n",
      "5            RH     20       -19.250000\n",
      "6           ADM     38         0.833333\n",
      "7            PD     47        11.666667\n",
      "8            PD     23       -12.333333\n",
      "9           ADM     56        18.833333\n",
      "10           PD     32        -3.333333\n",
      "11          ADM     22       -15.166667\n",
      "12           PD     36         0.666667\n",
      "13           RH     68        28.750000\n",
      "14          ADM     22       -15.166667\n",
      "15           PD     38         2.666667\n"
     ]
    }
   ],
   "source": [
    "grupoDepartamento = dafra.groupby('Departamento')\n",
    "\n",
    "dafra['difDepartamento'] = grupoDepartamento['Idade'].transform(lambda x: x - x.mean())\n",
    "\n",
    "print(dafra[['Departamento', 'Idade', 'difDepartamento']])\n"
   ]
  },
  {
   "cell_type": "code",
   "execution_count": 11,
   "id": "89f4592c-edd4-4916-8283-953ca6b1d134",
   "metadata": {},
   "outputs": [
    {
     "name": "stdout",
     "output_type": "stream",
     "text": [
      "     Formação  Idade  difFormacao\n",
      "0   Graduação     24   -11.100000\n",
      "1    Mestrado     36   -11.333333\n",
      "2   Graduação     45     9.900000\n",
      "3     Técnico     56    23.000000\n",
      "4   Graduação     29    -6.100000\n",
      "5     Técnico     20   -13.000000\n",
      "6   Graduação     38     2.900000\n",
      "7   Graduação     47    11.900000\n",
      "8     Técnico     23   -10.000000\n",
      "9   Graduação     56    20.900000\n",
      "10  Graduação     32    -3.100000\n",
      "11  Graduação     22   -13.100000\n",
      "12  Graduação     36     0.900000\n",
      "13   Mestrado     68    20.666667\n",
      "14  Graduação     22   -13.100000\n",
      "15   Mestrado     38    -9.333333\n"
     ]
    }
   ],
   "source": [
    "grupoFormacao = dafra.groupby('Formação')\n",
    "\n",
    "dafra['difFormacao'] = grupoFormacao['Idade'].transform(lambda x: x - x.mean())\n",
    "\n",
    "print(dafra[['Formação', 'Idade', 'difFormacao']])\n"
   ]
  },
  {
   "cell_type": "code",
   "execution_count": 12,
   "id": "8d4d5d7f-56f8-4210-9040-ec9816c70cfe",
   "metadata": {},
   "outputs": [
    {
     "name": "stdout",
     "output_type": "stream",
     "text": [
      "       Cidade Departamento  Idade  difCidadeeDepartamento\n",
      "0      Santos           RH     24                0.000000\n",
      "1     Atibaia           PD     36               -2.333333\n",
      "2   Guarulhos           RH     45                0.666667\n",
      "3     Atibaia          ADM     56                0.000000\n",
      "4      Santos          ADM     29                0.000000\n",
      "5   Guarulhos           RH     20              -24.333333\n",
      "6   Guarulhos          ADM     38                3.500000\n",
      "7     Atibaia           PD     47                8.666667\n",
      "8   Guarulhos           PD     23                0.000000\n",
      "9   Guarulhos          ADM     56               21.500000\n",
      "10    Atibaia           PD     32               -6.333333\n",
      "11  Guarulhos          ADM     22              -12.500000\n",
      "12     Santos           PD     36               -1.000000\n",
      "13  Guarulhos           RH     68               23.666667\n",
      "14  Guarulhos          ADM     22              -12.500000\n",
      "15     Santos           PD     38                1.000000\n"
     ]
    }
   ],
   "source": [
    "grupoCidadeeDepartamento = dafra.groupby(['Cidade', 'Departamento'])\n",
    "\n",
    "dafra['difCidadeeDepartamento'] = grupoCidadeeDepartamento['Idade'].transform(lambda x: x - x.mean())\n",
    "\n",
    "print(dafra[['Cidade', 'Departamento', 'Idade', 'difCidadeeDepartamento']])\n"
   ]
  },
  {
   "cell_type": "code",
   "execution_count": 13,
   "id": "9f763b95-435c-4097-8220-62f05bc11834",
   "metadata": {},
   "outputs": [
    {
     "name": "stdout",
     "output_type": "stream",
     "text": [
      "   Departamento   Formação  Idade  difDepartamentoeFormacao\n",
      "0            RH  Graduação     24                -10.500000\n",
      "1            PD   Mestrado     36                 -1.000000\n",
      "2            RH  Graduação     45                 10.500000\n",
      "3           ADM    Técnico     56                  0.000000\n",
      "4           ADM  Graduação     29                 -4.400000\n",
      "5            RH    Técnico     20                  0.000000\n",
      "6           ADM  Graduação     38                  4.600000\n",
      "7            PD  Graduação     47                  8.666667\n",
      "8            PD    Técnico     23                  0.000000\n",
      "9           ADM  Graduação     56                 22.600000\n",
      "10           PD  Graduação     32                 -6.333333\n",
      "11          ADM  Graduação     22                -11.400000\n",
      "12           PD  Graduação     36                 -2.333333\n",
      "13           RH   Mestrado     68                  0.000000\n",
      "14          ADM  Graduação     22                -11.400000\n",
      "15           PD   Mestrado     38                  1.000000\n"
     ]
    }
   ],
   "source": [
    "grupoDepartamentoeFormacao = dafra.groupby(['Departamento', 'Formação'])\n",
    "\n",
    "dafra['difDepartamentoeFormacao'] = grupoDepartamentoeFormacao['Idade'].transform(lambda x: x - x.mean())\n",
    "\n",
    "print(dafra[['Departamento', 'Formação', 'Idade', 'difDepartamentoeFormacao']])\n"
   ]
  },
  {
   "cell_type": "code",
   "execution_count": null,
   "id": "d0596417-1e8a-4e55-b40a-0c66817d621e",
   "metadata": {},
   "outputs": [],
   "source": []
  }
 ],
 "metadata": {
  "kernelspec": {
   "display_name": "Python 3 (ipykernel)",
   "language": "python",
   "name": "python3"
  },
  "language_info": {
   "codemirror_mode": {
    "name": "ipython",
    "version": 3
   },
   "file_extension": ".py",
   "mimetype": "text/x-python",
   "name": "python",
   "nbconvert_exporter": "python",
   "pygments_lexer": "ipython3",
   "version": "3.10.12"
  }
 },
 "nbformat": 4,
 "nbformat_minor": 5
}
